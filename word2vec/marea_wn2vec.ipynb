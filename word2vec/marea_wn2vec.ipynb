{
 "cells": [
  {
   "cell_type": "markdown",
   "id": "85ac25d7",
   "metadata": {},
   "source": [
    "## Set Up "
   ]
  },
  {
   "cell_type": "code",
   "execution_count": 1,
   "id": "62086349",
   "metadata": {},
   "outputs": [],
   "source": [
    "import io\n",
    "import re\n",
    "import string\n",
    "import tqdm\n",
    "\n",
    "import numpy as np\n",
    "\n",
    "import tensorflow as tf\n",
    "from tensorflow.keras import layers"
   ]
  },
  {
   "cell_type": "code",
   "execution_count": 2,
   "id": "0f1bb9cf",
   "metadata": {},
   "outputs": [],
   "source": [
    "# Load the TensorBoard notebook extension\n",
    "%load_ext tensorboard"
   ]
  },
  {
   "cell_type": "code",
   "execution_count": 3,
   "id": "a49c132e",
   "metadata": {},
   "outputs": [],
   "source": [
    "SEED = 42\n",
    "AUTOTUNE = tf.data.AUTOTUNE"
   ]
  },
  {
   "cell_type": "code",
   "execution_count": 4,
   "id": "d765884c",
   "metadata": {},
   "outputs": [],
   "source": [
    "num_ns = 4"
   ]
  },
  {
   "cell_type": "raw",
   "id": "08a3e6e4",
   "metadata": {},
   "source": [
    "Compile all the steps described above into a function that can be called on a list of vectorized sentences obtained from any text dataset. Notice that the sampling table is built before sampling skip-gram word pairs. You will use this function in the later sections."
   ]
  },
  {
   "cell_type": "code",
   "execution_count": 5,
   "id": "5e9d86fa",
   "metadata": {},
   "outputs": [],
   "source": [
    "# Generates skip-gram pairs with negative sampling for a list of sequences\n",
    "# (int-encoded sentences) based on window size, number of negative samples\n",
    "# and vocabulary size.\n",
    "def generate_training_data(sequences, window_size, num_ns, vocab_size, seed):\n",
    "  # Elements of each training example are appended to these lists.\n",
    "  targets, contexts, labels = [], [], []\n",
    "\n",
    "  # Build the sampling table for `vocab_size` tokens.\n",
    "  sampling_table = tf.keras.preprocessing.sequence.make_sampling_table(vocab_size)\n",
    "\n",
    "  # Iterate over all sequences (sentences) in the dataset.\n",
    "  for sequence in tqdm.tqdm(sequences):\n",
    "\n",
    "    # Generate positive skip-gram pairs for a sequence (sentence).\n",
    "    positive_skip_grams, _ = tf.keras.preprocessing.sequence.skipgrams(\n",
    "          sequence,\n",
    "          vocabulary_size=vocab_size,\n",
    "          sampling_table=sampling_table,\n",
    "          window_size=window_size,\n",
    "          negative_samples=0)\n",
    "\n",
    "    # Iterate over each positive skip-gram pair to produce training examples\n",
    "    # with a positive context word and negative samples.\n",
    "    for target_word, context_word in positive_skip_grams:\n",
    "      context_class = tf.expand_dims(\n",
    "          tf.constant([context_word], dtype=\"int64\"), 1)\n",
    "      negative_sampling_candidates, _, _ = tf.random.log_uniform_candidate_sampler(\n",
    "          true_classes=context_class,\n",
    "          num_true=1,\n",
    "          num_sampled=num_ns,\n",
    "          unique=True,\n",
    "          range_max=vocab_size,\n",
    "          seed=SEED,\n",
    "          name=\"negative_sampling\")\n",
    "\n",
    "      # Build context and label vectors (for one target word)\n",
    "      negative_sampling_candidates = tf.expand_dims(\n",
    "          negative_sampling_candidates, 1)\n",
    "\n",
    "      context = tf.concat([context_class, negative_sampling_candidates], 0)\n",
    "      label = tf.constant([1] + [0]*num_ns, dtype=\"int64\")\n",
    "\n",
    "      # Append each element from the training example to global lists.\n",
    "      targets.append(target_word)\n",
    "      contexts.append(context)\n",
    "      labels.append(label)\n",
    "\n",
    "  return targets, contexts, labels"
   ]
  },
  {
   "cell_type": "code",
   "execution_count": 6,
   "id": "a3fd4152",
   "metadata": {},
   "outputs": [],
   "source": [
    "#path_to_file = '/Users/niyone/Desktop/word2vec/word2vec_marea/sample10000abstracts.tsv'\n",
    "#path_to_file = '/Users/niyone/Desktop/wn2vc_marea/data/pubmed_wn2vec/100000_wn2vec.tsv' #100k wn2vec \n",
    "#path_to_file = '/Users/niyone/Desktop/wn2vc_marea/data/pubmed_wn2vec/wn2vec2.0.tsv' #2.0 wn2vec \n",
    "\n",
    "#path_to_file = '/Users/niyone/Desktop/wn2vc_marea/data/pubmed_cr/100000pubmed_cr.tsv' #100k marea \n",
    "path_to_file = '/Users/niyone/Desktop/wn2vc_marea/data/pubmed_cr/pubmed_cr2.0.tsv' #2.0 marea \n"
   ]
  },
  {
   "cell_type": "code",
   "execution_count": 7,
   "id": "e43e10a7",
   "metadata": {},
   "outputs": [
    {
     "data": {
      "text/plain": [
       "'\"\"\\nUse this when the data has 2 columns\\n'"
      ]
     },
     "execution_count": 7,
     "metadata": {},
     "output_type": "execute_result"
    }
   ],
   "source": [
    "\"\"\"\"\"\n",
    "Use this when the data has 2 columns\n",
    "\"\"\"\"\"\n",
    "# lines = []\n",
    "# with open(path_to_file) as f:\n",
    "#     for line in f:\n",
    "#         columns = line.split('\\t')\n",
    "#         if len(columns) != 2:\n",
    "#             raise ValueError(f'Malformed marea line: {line}')\n",
    "#         abstract = columns[1]  #columns[0]: pmid,  columns[1] year, columns[2] abstract text\n",
    "#         lines.append(abstract)\n",
    "# for line in lines[:20]:\n",
    "#   print(line)"
   ]
  },
  {
   "cell_type": "code",
   "execution_count": 8,
   "id": "950f9564",
   "metadata": {},
   "outputs": [
    {
     "name": "stdout",
     "output_type": "stream",
     "text": [
      "well differentiate meshd018208 like morphology ncbigene4193 ncbigene4193 ncbigene1649 ncbigene1649 co amplification well differentiate meshd008080 wdl one common soft tissue meshd012509 adult predilection middle age male arises deep seat location retroperitoneum mediastinum spermatic cord occurrence young individual hypopharyngeal region exceedingly rare event meshd018208 ml like change seldom occur case wdl make diagnosis wdl challenge amplification ncbigene1649 ncbigene1649 gene subset case wdl show associate unique morphology herein present case 36 year old gentleman present difficulty breathing swallow 3 month duration ct scan neck reveal lesion along posterior wall hypopharynx measure 3 5 cm histopathologic examination reveal meshd009369 compose lobule oval spindle cell prominent myxoid stroma delicate ncbitaxon9031 ncbitaxon9031 wire vasculature vicinity lobule compose variably size adipocytes separate thick fibrous septum contains atypical hyperchromatic spindle cell immunohistochemistry meshd009369 cell component immunoreactive ncbigene1019 ncbigene1019 negative ncbigene4193 ncbigene4193 fluorescence situ hybridization fish confirm presence ncbigene4193 ncbigene4193 gene amplification evidence ncbigene2521 ncbigene2521 ncbigene1649 ncbigene1649 gene rearrangement ncbigene1649 ncbigene1649 gene amplify diagnosis well differentiate meshd008080 prominent myxoid stroma render first documentation wdl ml like morphology harbor co amplification ncbigene4193 ncbigene4193 ncbigene1649 ncbigene1649 hypopharynx\n",
      "\n",
      "radiomics nomogram base multiple sequence magnetic resonance image predicts long term survival patient diagnose nasopharyngeal meshd009369 purpose although meshd009369 node metastasis stag system widely use survival analysis nasopharyngeal meshd009369 npc meshd009369 heterogeneity limit utility study aim develop validate radiomics model base multiple sequence magnetic resonance image mri estimate probability overall survival patient diagnose npc method multiple sequence mris include t1 weight t1 contrast t2 weight image collect patient diagnose npc radiomics feature extract contour gross tumo meshd009369 ume three sequence patient use least absolute shrinkage selection operator cox regression model optimal rad ncbigene6236 ncbigene6236 determine use 12 851 radiomics feature derive multiple sequence mri discrimination power compare training validation cohort well prediction performance optimal nomogram radiomics nomogram ms incorporate optimal rad ncbigene6236 ncbigene6236 clinical risk factor developed calibration curve decision curve use evaluate optimize discrimination power result total 504 patient diagnose npc include study optimal rad ncbigene6236 ncbigene6236 significantly correlate overall survival training index 0 731 95 confidence interval ci 0 709 0 753 validation cohort index 0 807 95 ci 0 782 0 832 compare nomogram developed single sequence mri radiomics nomogram ms high discrimination power training index 0 827 95 ci 0 809 0 845 validation cohort index 0 836 95 ci 0 815 0 857 analysis calibration decision curve confirm effectiveness utility optimal radiomics nomogram ms conclusion radiomics nomogram model incorporates multiple sequence mri clinical factor useful tool early assessment long term prognosis patient diagnose npc\n",
      "\n",
      "universal immunotherapeutic strategy meshd006528 exosome vaccine engage adaptive innate immune response background personalize immunotherapy utilize meshd009369 vaccine tailor meshd009369 individual patient hold promise meshd009369 high genetic heterogeneity potentially enable eradication meshd009369 entirety method demonstrate general strategy biological nanovaccines trigger tailor meshd009369 specific immune response meshd006528 ncbigene619501 ncbigene619501 dendritic cell ncbigene13179 ncbigene13179 derive exosomes dex paint ncbigene619501 ncbigene619501 target peptide ncbigene17304 ncbigene17304 ncbigene11576 ncbigene11576 epitope afp212 a2 functional domain ncbigene15312 ncbigene15312 n1nd immunoadjuvant ncbigene13179 ncbigene13179 recruitment activation via exosomal anchor peptide form trigger dex vaccine dexp a2 result dexp a2 specifically promote recruitment accumulation activation dcs ncbitaxon10090 ncbitaxon10090 orthotopic meshd006528 result enhance cross presentation meshd009369 neoantigens de novo cell response dexp a2 elicit significant meshd009369 meshd009369 specific immune response ncbigene619501 ncbigene619501 ncbitaxon10090 ncbitaxon10090 large meshd009369 burden importantly meshd009369 eradication achieve orthotopic ncbigene619501 ncbigene619501 ncbitaxon10090 ncbitaxon10090 antigenic ncbigene11576 ncbigene11576 peptide replace full length ncbigene11576 ncbigene11576 form dexp supplementation ncbigene14256 ncbigene14256 greatly augment antitumor immunity dexp increase immunological memory meshd009369 challenge orthotopic ncbigene619501 ncbigene619501 ncbitaxon10090 ncbitaxon10090 depletion cell cross present dcs innate immune cell abrogate functionality dexp conclusion finding demonstrate capacity universal dex vaccine induce meshd009369 specific immune response trigger immune response tailor meshd009369 individual present generalizable approach personalize immunotherapy ncbigene619501 ncbigene619501 extension meshd009369 need identify meshd009369 antigen supplementary information online version contains supplementary material available 10 1186 s13045 022 01266 8\n",
      "\n",
      "meshd015464 double philadelphia chromosome coexpression p210 ncbigene8506 ncbigene8506 fusion transcript philadelphia ncbigene5053 ncbigene5053 chromosome 9 22 q34 q11 2 originates chimeric gene call ncbigene25 ncbigene25 present 90 meshd015464 patient patient meshd015464 express protein p210 ncbigene25 ncbigene25 frequency low 5 express rare isoforms main one ncbigene8506 ncbigene8506 transition chronic phase blast phase bp additional meshd002869 presence double ncbigene5053 ncbigene5053 chromosome reveal 1132 patient analyze via molecular biology study two patient 0 17 show co expression p210 ncbigene8506 ncbigene8506 isoforms ncbigene25 ncbigene25 transcript concomitant presence double ncbigene5053 ncbigene5053 chromosome observe via conventional cytogenetics confirm fluorescent situ hybridization bcr ncbigene25 ncbigene25 ncbigene25 ncbigene25 p210 ncbigene8506 ncbigene8506 ratio increase two patient diagnosis progression blast crisis knowledge first report literature patient co express two main ncbigene25 ncbigene25 transcript isoforms concomitantly present ncbigene5053 ncbigene5053 chromosome duplication evolution chronic phase bp often occurs 5 7 year study evolution bp earlier since disease free survival average 4 5 month overall survival average 9 5 month presence ncbigene8506 ncbigene8506 transcript double ncbigene5053 ncbigene5053 chromosome meshd015464 related vertiginous progression disease\n",
      "\n",
      "mediterranean diet combine low meshd002241 dietary pattern treatment meshd011085 patient objective determine therapeutic effect mediterranean diet med combine low meshd002241 lc dietary model meshd011085 meshd011085 patient method 12 week randomize control clinical trial 72 overweight patient meshd011085 randomly assign one two energy restrict dietary model med lc diet low fat lf diet intervention number two group return normal menstruation count body weight body mass index bmi waist circumference waist hip ratio whr body fat percentage bf serum fast ncbigene3630 ncbigene3630 fins fast plasma meshd005947 fpg ncbigene3630 ncbigene3630 resistance index homa ncbigene3643 ncbigene3643 quantitative ncbigene3630 ncbigene3630 sensitivity index quiki total cholesterol tc high density lipoprotein cholesterol hdl low density lipoprotein cholesterol ldl triglyceride tg total testosterone tt luteinizing hormone lh follicle stimulate hormone fsh ncbigene5617 ncbigene5617 ncbigene5617 ncbigene5617 compare 2 group intervention result med lc group significant reduction trend weight 6 10 1 52 kg v 4 79 0 97 kg 0 05 bmi 2 12 0 57 kg m2 v 1 78 0 36 kg m2 0 05 wc 6 12 5 95 cm v 3 90 1 58 cm 0 05 whr 0 06 0 02 v 0 03 0 02 0 05 bf 2 97 1 78 v 1 19 0 91 0 05 tt 0 20 0 24 ng ml v 0 08 0 11 ng ml 0 001 lh 5 28 3 31 miu ml v 3 39 3 64 miu ml 0 05 lh fsh 1 18 0 75 v 0 66 1 05 0 05 compare lf group addition fpg 0 05 0 38 mmol ml v 0 50 1 01 mmol ml 0 001 fins 4 88 6 11 muu ml v 8 53 5 61 muu ml 0 01 homa ncbigene3643 ncbigene3643 index 1 11 1 51 v 2 23 0 25 0 05 quiki index 0 014 0 016 v 0 028 0 019 0 05 decrease significantly med lc group compare lf group compare change lipid parameter two group lf v med lc significant difference tg 0 33 0 32 mmol v 0 76 0 97 mmol 0 05 tc 0 40 1 00 mmol v 1 45 2 00 mmol 0 05 ldl 0 41 1 05 mmol v 0 73 0 76 mmol 0 05 observe conclusion result study suggest med lc diet model good treatment overweight pcos patient significantly restore men meshd011085 al cycle improve anthropometric parameter correct disturbed endocrine level overall effectiveness significantly well lf diet model therefore study recommends med lc diet model use clinical treatment patient overweight pcos\n",
      "\n",
      "target therapy meshd006528 beyond ncbigene5979 ncbigene5979 inhibitor immune checkpoint inhibitor simple summary meshd006528 hcc common type primary meshd006528 incidence steadily increase development hcc complex multi step process accompany alteration multiple signal cascade recent year see advancement understand molecular signal pathway play central role meshd063646 aberrant activation ncbigene10413 ncbigene10413 ncbigene6901 ncbigene6901 ncbigene42737 ncbigene42737 wnt ncbigene1499 ncbigene1499 signal frequently found subset hcc patient target signal pathway via small molecule inhibitor promising therapeutic option subset patient review introduce signal pathway discus role development hcc propose therapeutic approach target signal pathway context hcc abstract meshd006528 hcc major health concern worldwide incidence increase steadily date receptor tyrosine kinase rtks favor molecular target treatment hcc follow immune checkpoint regulator pd 1 ncbigene29126 ncbigene29126 ncbigene1493 ncbigene1493 less desirable clinical outcome rtk inhibitor well immune checkpoint inhibitor ici far novel molecular target therapy propose hcc review introduce diverse molecular signal pathway aberrantly activate hcc focus ncbigene10413 ncbigene10413 ncbigene6901 ncbigene6901 ncbigene42737 ncbigene42737 wnt ncbigene1499 ncbigene1499 signal pathway discus potential therapeutic strategy target signal pathway hcc\n",
      "\n",
      "management follow meshd011127 update joint guideline esgar eaes efisds esge abstract main recommendation primary investigation polypoid lesion gallbladder abdominal ultrasound routine use image modality recommend presently research need centre appropriate expertise resource alternative image modality contrast enhance endoscopic ultrasound useful aid decision make difficult case strong recommendation low moderate quality evidence cholecystectomy recommend patient polypoid lesion gallbladder measure 10 mm provide patient fit accepts surgery multidisciplinary discussion employ ass perceive individual risk mal meshd009369 trong recommendation low quality evidence cholecystectomy suggest patient polypoid lesion symptom potentially attributable gallbladder alternative cause patient symptom demonstrate patient fit accepts surgery patient counsel regard benefit cholecystectomy versus risk persistent symptom strong recommendation low quality evidence patient 6 9 mm polypoid lesion gallbladder one risk factor malign meshd009369 ecystectomy recommend patient fit accepts surgery risk factor follow age 60 year history primary sclero meshd015209 ncbigene100653366 ncbigene100653366 ethnicity sessil meshd001768 uding focal gallbladder wall thicken 4 mm strong recommendation low moderate quality evidence patient either risk factor malignancy meshd009369 polypo meshd005705 factor malignancy meshd009369 polypo meshd005705 low ultrasound gallbladder recommend 6 month 1 year 2 year follow discontinue 2 year absence growth moderate strength recommendation moderate quality evidence patient risk factor malignancy gallblad meshd009369 id lesio meshd005705 require strong recommendation moderate quality evidence follow gallbladder polypoid lesion meshd005705 cystectomy advise polypoid lesion grows 2 mm 2 year follow period current size polypoid lesion consider along patient risk factor multidisciplinary discussion employ decide whether continuation monitoring cholecystectomy necessary moderate strength recommendation moderate quality evidence follow gallbladder polypoid lesion meshd005705 discontinue strong recommendation moderate quality evidence source scope guideline update 2017 recommendation developed european society gastrointestinal abdominal radiology esgar european association endoscopic surgery interventional technique eaes international society digestive surgery european federation efisds european society gastrointestinal endoscopy esge target literature search perform discover recent evidence concern management follow gallbladder polyp change th meshd011127 date guideline formulate consideration late evidence group international expert grade recommendation assessment development evaluation grade system adopt define strength recommendation quality evidence key point recommendation update 2017 european guideline regard management follow gallbladder polyp\n",
      "\n",
      "endoscope control extend supraorbital keyhole approach modify eyebrow incision large dural base solitary fibrous meshd009369 frontal convexity technical note background extend supraorbital approach modify eyebrow incision minimally invasive approach recently described entail lateral extension skin incision beyond lateral end eyebrow allows exposure proximal sylvian fissure superior degree surgical freedom middle fossa parasellar region technical note describe endoscope control extend supraorbital keyhole approach modify eyebrow incision excision large dural base solitary fibrous meshd009369 left frontal convexity method endoscope control extend supraorbital keyhole approach modify eyebrow incision perform excise large extra axial mass attach dura left frontal convexity extends superior temporal line midline 34 year old male patient present 1 year history meshd006261 meshd004244 meshd014786 result patient uneventful postoperative course gross total excision lesion satisfy cosmetic appearance histopathological examination reveal grade 1 solitary meshd054364 conclusion demonstrate feasibility endoscope control extend supraorbital keyhole approach modify eyebrow incision excision meshd009369 abut inner table frontal calvarial bone extend highly skull base level extend medially reach midline approach versatile allows great exposure category lesion deem perfectly suitable classic supraorbital keyhole approach\n",
      "\n",
      "meshd008223 ncbigene4609 ncbigene4609 ncbigene596 ncbigene596 ncbigene604 ncbigene604 rearrangement review diagnosis treatment modern era classification meshd009369 depends immunomorphological feature specific disease define genetic event translocation rearrangement ncbigene4609 ncbigene4609 8 locus combine ncbigene596 ncbigene596 ncbigene604 ncbigene604 translocation double triple hit consider hallmark high grade meshd016393 hgbl type aggressive mature meshd016393 case immature immunophenotypes present rearrangement diagnosis becomes difficult herein report unusual case meshd016393 present immature morphology immunophenotype triple hit gene rearrangement case highlight difficulty classify appropriately treat patient novel aspect treatment outcome chimeric antigen receptor ncbigene9970 ncbigene9970 cell therapy\n",
      "\n",
      "unusual meshd006471 mimic rupture solitary gastric varix due meshd046152 exogenous growth meshd046152 lead meshd006471 usually cause dimple ulceration meshd009369 surface rare pedunculated meshd046152 outside stomach present huge mass delayed complaint herein report unusual meshd006470 mimic meshd012421 solitary gastric varix due pedunculated meshd046152 case contrast enhance compute tomography cect essential meshd009369 detection endoscopic investigation reveal dilate aberrant vein artery submucosa meshd009369 recognize solitary gastric varix\n",
      "\n",
      "meshd020362 anti yo antibody associate submandibular gland meshd009369 case report background debilitate syndrome meshd020362 meshd007619 remains challenge treat anti yo antibody direct human ncbigene101060399 ncbigene101060399 detection patient meshd007619 associate unsatisfactory response exist therapy present case 60 year old woman developed meshd007619 anti yo antibody submandibular gland meshd009369 case presentation 60 year old woman present 5 day history unsteadiness gait inadequate coordination extremity along truncal instability although walk ncbigene57379 ncbigene57379 possible meshd002524 four limb trunk meshd020234 observe routine biochemical hematological examination normal patient blood positive anti yo antibody meshd009422 despite administration intravenous meshd008775 meshd019788 positron emission tomography fdg pet compute tomography ct image contrast enhancement perform show meshd009369 left submaxillary gland underwent total left submandibular gland resection include meshd009369 histological immunohistochemical result reveal meshd012465 administer intravenous meshd008775 follow 10 plasma exchange session intravenous immunoglobulin meshd003520 therapy follow treatment symptom alleviate even reduction anti yo titer conclusion although tum meshd009369 tection delayed early tum meshd009369 tection diagnosis pcd meshd007619 eatment essential delay result progression disorder irreversible neu meshd009422 herefore recommend possibility salivary gland tum meshd009369 ould consider whole body dual modality ct include head neck fdg pet perform early patient well characterize paraneoplastic antibody conventional image fails identify tum meshd009369\n",
      "\n",
      "dual checkpoint target ncbigene80381 ncbigene80381 pd 1 enoblituzumab meshc582435 advanced meshd009369 interim result multicenter phase ii trial background availability checkpoint inhibitor create paradigm shift management patient meshd009369 despite patient respond immunotherapy considerable interest develop combination therapy improve response rate outcome ncbigene80381 ncbigene80381 ncbigene80381 ncbigene80381 member b7 family cell surface molecule provide alternative immune checkpoint molecule therapeutically target alone combination ncbigene5133 ncbigene5133 pd 1 target therapy enoblituzumab investigational anti ncbigene80381 ncbigene80381 humanize monoclonal antibody incorporates immunoglobulin g1 fragment crystallizable fc domain enhances ncbigene2209 ncbigene2209 mediate antibody dependent cellular meshd064420 coordinate engagement innate adaptive immunity target distinct member b7 family ncbigene80381 ncbigene80381 pd 1 hypothesize provide great antitumor activity either agent alone method phase ii study patient receive intravenous enoblituzumab 3 15 mg kg weekly plus intravenous meshc582435 2 mg kg every 3 week dose escalation cohort expansion expansion cohort include meshd002289 meshd002289 checkpoint inhibitor cpi naive post cpi ncbigene29126 ncbigene29126 ncbigene29126 ncbigene29126 1 head meshd000077195 hnscc cpi naive meshd014523 post cpi meshd008545 post cpi disease assess use response evaluation criterion solid meshd009369 version 1 1 6 week every 9 week thereafter safety pharmacokinetic data provide enrol patient efficacy data focus hnscc meshd002289 cohort result overall 133 patient enrol receive 1 dose study treatment maximum tolerate dose enoblituzumab pembroli meshc582435 kg reach intravenous enoblituzumab 15 mg kg every 3 week plus pembroli meshc582435 every 3 week recommend phase ii evaluation treatment related adverse event occur 116 patient 87 2 grade 3 28 6 one treatment related death occur pneumoni meshd011014 tive response occur 6 18 33 3 95 ci 13 3 59 0 patient cpi naive hnscc 5 14 35 7 95 ci 12 8 64 9 patient cpi naive nsclc meshd002289 sion checkpoint target enoblituzumab pembrolizuma meshc582435 acceptable safety antitumor activity patient cpi naive hnscc nsclc trial meshd002289 stration number nct02475213\n",
      "\n",
      "highly differential count circulate meshd009369 infiltrate immune cell patient non hcv non meshd006528 background liver transplantation liver resection curative option early meshd006528 hcc outcome part depend immunological response meshd009369 study aim identify immunological profile non hcv non hbv hcc patient method thirty nine immune cell subset measure multicolor flow cytometry immunophenotyping perform peripheral blood pb meshd009369 specimen 10 hcc resection patient 10 healthy donor signature highly differential leukocyte count ncbigene7124 ncbigene7124 analyze use multidimensional technique functional capability measure use intracellular ncbigene3458 ncbigene3458 stain trial registration drks00013567 result ncbigene7124 ncbigene7124 show activation subset nk dendritic cell suppression subset myeloid derive suppressor cell regulatory cell antitumor response principal component analysis pb meshd009369 infiltrate leukocyte til illustrate antitumor activate gradient tils show functional capability secrete ncbigene3458 ncbigene3458 kill hcc cell conclusion conclusion measurement ncbigene7124 ncbigene7124 show distinct difference immune reaction non hbv non hcv hcc illustrates immunosuppressive gradient toward peripheral blood trial registration drks00013567 supplementary information online version contains supplementary material available 10 1007 s00262 021 03061 9\n",
      "\n",
      "meshd003528 case report review literature meshd003528 adcc uncommon meshd009369 head neck clinical pattern characterize slow growth perineural invasion distant metastasis cribriform tubular solid three recognize histopathological pattern see adcc report case adcc involve meshd002972 update current understand clinical behavior molecular biology pathogenesis histopathological aspect treatment prognosis\n",
      "\n",
      "clinical significance epigenetic rnapii variability occur meshc538614 potential prognostic marker highlight 30 ccrcc patient use follow epigenetic change gammah2a h3k4me3 h3k9me3 alteration level rna polymerase ii rnapii variability meshd009369 non meshd009369 part tissue measure image analysis monitor 30 cell different position either meshd009369 non meshd009369 part tissue section marker classify predict patient outcome base individual cellular background result support detection alteration level h3k4me3 h3k9me3 gammah2ax account valuable information presume progression ccrcc clinical benefit select efficient personalize therapy patient diagnose meshc538614 ccrcc poor prognosis recurrence approximately 30 40 later develop meshd009362 reason appropriate diagnosis detailed molecular characterisation primary meshd009369 include susceptibility metastasis crucial select proper adjuvant therapy prosperous outcome achieve nowadays clinicopathological variable use classification meshd009369 apart molecular biomarkers necessary improve risk classification beneficial amongst modern adjuvant therapy potential molecular biomarker follow transcriptional kinetics ccrcc patient 30 analyse epigenetic change gammah2a h3k4me3 h3k9me3 alteration level rna polymerase ii rnapii immunohistochemical stain dissect tissue section variability meshd009369 non meshd009369 part tissue detect use quantitative image analysis monitoring 30 cell different position either meshd009369 non meshd009369 part tissue section data obtain analysis use identify potential prognostic feature associate progression marker value predict patient outcome base individual cellular background result support detection alteration level h3k4me3 h3k9me3 gammah2a account valuable information presume progression ccrcc clinical benefit select efficient personalise therapy\n",
      "\n",
      "percentage tumor invasion pretreatment high resolution magnetic resonance image associate aggressive tumor response chinese t3 rectal meshd009369 preliminary result purpose purpose study ass ability percentage meshd009369 invasion pti t3 rectal meshd009369 pretreatment mri image biomarker reflect meshd001523 predict meshd009369 response neoadjuvant chemoradiation ncrt chinese population method total 107 chinese rectal meshd009369 patient underwent pretreatment mri stag t3 include extramural depth meshd009369 invasion emd distance outer border muscularis propria mp mesorectal fascia mrf call thickness mesorectum tm slice direction measure pretreatment mri pti equal emd tm calculate emd pti subgroup base pretreatment ncbigene1084 ncbigene1084 ca19 9 level category pathological complete response pcr compare parameter described meshd009369 invasion compare pcr non pcr group student test logistic analysis apply result pretreatment pti high cea ncbigene1084 ncbigene1084 2 ng ml patient 58 52 27 68 cea ncbigene1084 ncbigene1084 2 ng ml patient 47 27 24 15 0 034 pretreatment emd non pcr group 7 21 2 85 mm high pcr group 6 14 3 56 mm 0 049 pretreatment pti non pcr group 57 4 26 4 high pcr group 47 3 29 1 0 041 compare patient pti 50 mrf patient pti 50 mrf show pcr or 8 44 0 005 or 6 32 0 024 conclusion pti obtain pretreatment mri serve image biomarker reflect tumor ag meshd001523 dict t3 rectal cancer meshd009369 benefit ncrt chinese population\n",
      "\n",
      "immune landscape meshd006223 microenvironment bioinformatic analysis introduction ncbigene5728 ncbigene5728 gene mutation frequently found genetic landscape high grade meshd005910 since influence cell proliferation proangiogenetic pathway antitumoral immune response present bioinformatics analysis explores ncbigene5728 ncbigene5728 gene expression profile hggs prognostic factor survival especially focus related immune microenvironment effect ncbigene5728 ncbigene5728 mutation susceptibility conventional chemotherapy investigate method clinical genetic data gbms normal tissue sample acquire meshd009369 genome atlas tcga gbm genotype tissue expression gtex online database respectively genetic differential expression analyze group via one way anova test kaplan meier survival curve apply estimate overall survival os disease free survival dfs genomics drug sensitivity meshd009369 platform chosen ass response ncbigene5728 ncbigene5728 mutate gbms meshd000077204 meshd000077204 0 05 fix statistically significant tumor immune estimation resource gene expression profile interactive analysis database linkage immune cell recruitment ncbigene5728 ncbigene5728 status assess spearman correlation analysis result ncbigene5728 ncbigene5728 found mutate 22 2 617 tcga gbms patient high log2 transcriptome per million read compare gtex group 255 sample survival curve reveal bad os dfs albeit significant high ncbigene5728 ncbigene5728 profile gbms spearman analysis immune cell demonstrate strong positive correlation ncbigene5728 ncbigene5728 status infiltration treg rho 0 179 m2 macrophage rho 0 303 half maximal inhibitor concentration meshd000077204 proven low ncbigene5728 ncbigene5728 mutate gbms compare ncbigene5728 ncbigene5728 wild type conclusion ncbigene5728 ncbigene5728 gene mutation prevail gbms strongly related poor prognosis least survival infiltrate immune lymphocyte treg m2 macrophage populate meshd005910 microenvironment control mechanism meshd009369 progression immune escape sensitivity standard chemotherapy broader study require confirm finding turn new therapeutic perspective\n",
      "\n",
      "meshd008228 rare variant meshd001254 meshd008228 pxa rare meshd005910 affect 1 meshd001254 commonly affect child teenager pxa case anaplastic histopathological subtype report recent year recently classify separate subtype 2016 world health organization who classification meshd016543 48 year old healthy gentleman present progressive meshd018908 ct mri brain do show intra axial supratentorial meshd009369 diagnosis high grade meshd005910 initially make base image feature histopathological study come back meshd008228 discussion neurosurgical oncology team decision make treat patient radiotherapy case report describe rare case pxa anaplastic characteristic\n",
      "\n",
      "treatment strategy esophageal meshd002294 endoscopic intramural meshd009362 purpose intramural metastasis im meshd000077277 escc sometimes found prognosis escc patient pathologically diagnose im know dismal report escc patient clinically diagnose im method study assess 2 772 escc patient underwent endoscopy initial evaluation among 85 patient 3 1 diagnose endoscopic im study investigate patient characteristic survival among group stratify treatment modality survival predictor result 85 patient 76 89 4 t3 t4 tu meshd009369 73 85 9 nodal meshd009362 36 42 4 m1 disease curative intent treatment give 63 patient 74 1 median survival time mst 15 6 month 95 ci 10 7 20 4 initial treatment upfront surgery us neoadjuvant chemotherapy nac use ci meshd002945 nd 5 meshd005472 cf neoadjuvant chemoradiotherapy definitive chemoradiotherapy dcrt give 17 27 0 27 42 9 2 3 2 17 patient 27 0 respectively dcrt prefer t4 tu meshd009369 ompared us nac 0 02 mst us nac patient 19 3 95 ci 12 9 25 6 23 4 month 95 ci 9 4 37 4 respectively significant difference note us nac patient 0 89 conclusion prognosis escc patient endoscopic im poor even curative intent treatment do moreover significant survival benefit nac cf patient observe compare us\n",
      "\n",
      "solitary cecal ulcer case report background solitary cecal meshd014456 rare disease etiology unknown pathognomonic symptom rare report mimic meshd009369 see case case presentation 64 year old woman present history intermittent right low meshd015746 20 year worsen 1 year colonoscopy reveal enormous cecal meshd014456 pet ct show increase metabolism lesion underwent right hemicolectomy histopathological examination reveal chronic non specific meshd007249 rare diagnosis solitary cecal meshd014456 ultimately make conclusion solitary cecal meshd014456 rare idiopathic entity mimic meshd015212 meshd009369 meshd007239 etc comprehensive image case describe characteristic disease\n",
      "\n"
     ]
    }
   ],
   "source": [
    "\"\"\"\"\"\n",
    "Use this when the data has 3 columns\n",
    "\"\"\"\"\"\n",
    "lines = []\n",
    "with open(path_to_file) as f:\n",
    "    for line in f:\n",
    "        columns = line.split('\\t')\n",
    "        if len(columns) != 3:\n",
    "            raise ValueError(f'Malformed marea line: {line}')\n",
    "        abstract = columns[2]  #columns[0]: pmid,  columns[1] year, columns[2] abstract text\n",
    "        lines.append(abstract)\n",
    "for line in lines[:20]:\n",
    "  print(line)"
   ]
  },
  {
   "cell_type": "code",
   "execution_count": 9,
   "id": "2bdf1e83",
   "metadata": {},
   "outputs": [
    {
     "name": "stderr",
     "output_type": "stream",
     "text": [
      "2022-07-15 17:53:47.150721: I tensorflow/core/platform/cpu_feature_guard.cc:193] This TensorFlow binary is optimized with oneAPI Deep Neural Network Library (oneDNN) to use the following CPU instructions in performance-critical operations:  AVX2 FMA\n",
      "To enable them in other operations, rebuild TensorFlow with the appropriate compiler flags.\n"
     ]
    }
   ],
   "source": [
    "text_ds = tf.data.TextLineDataset(path_to_file).filter(lambda x: tf.cast(tf.strings.length(x), bool))"
   ]
  },
  {
   "cell_type": "code",
   "execution_count": 10,
   "id": "82f2f99c",
   "metadata": {},
   "outputs": [],
   "source": [
    "# Now, create a custom standardization function to lowercase the text and\n",
    "# remove punctuation.\n",
    "def custom_standardization(input_data):\n",
    "  lowercase = tf.strings.lower(input_data)\n",
    "  return tf.strings.regex_replace(lowercase,\n",
    "                                  '[%s]' % re.escape(string.punctuation), '')\n",
    "\n",
    "\n",
    "# Define the vocabulary size and the number of words in a sequence.\n",
    "vocab_size = 4096\n",
    "sequence_length = 10\n",
    "\n",
    "# Use the `TextVectorization` layer to normalize, split, and map strings to\n",
    "# integers. Set the `output_sequence_length` length to pad all samples to the\n",
    "# same length.\n",
    "vectorize_layer = layers.TextVectorization(\n",
    "    standardize=custom_standardization,\n",
    "    max_tokens=vocab_size,\n",
    "    output_mode='int',\n",
    "    output_sequence_length=sequence_length)"
   ]
  },
  {
   "cell_type": "code",
   "execution_count": 11,
   "id": "88891b3b",
   "metadata": {},
   "outputs": [],
   "source": [
    "vectorize_layer.adapt(text_ds.batch(1024))"
   ]
  },
  {
   "cell_type": "code",
   "execution_count": 12,
   "id": "14745955",
   "metadata": {},
   "outputs": [
    {
     "name": "stdout",
     "output_type": "stream",
     "text": [
      "['', '[UNK]', 'patient', 'meshd009369', 'cell', '0', 'study', '1', 'treatment', 'use', 'case', 'expression', '2', 'high', 'year', '3', 'survival', 'analysis', 'group', 'result']\n"
     ]
    }
   ],
   "source": [
    "# Save the created vocabulary for reference.\n",
    "inverse_vocab = vectorize_layer.get_vocabulary()\n",
    "print(inverse_vocab[:20])"
   ]
  },
  {
   "cell_type": "code",
   "execution_count": 13,
   "id": "fc676aa3",
   "metadata": {},
   "outputs": [],
   "source": [
    "# Vectorize the data in text_ds.\n",
    "text_vector_ds = text_ds.batch(1024).prefetch(AUTOTUNE).map(vectorize_layer).unbatch()"
   ]
  },
  {
   "cell_type": "code",
   "execution_count": 14,
   "id": "8737da86",
   "metadata": {},
   "outputs": [
    {
     "name": "stdout",
     "output_type": "stream",
     "text": [
      "350871\n"
     ]
    }
   ],
   "source": [
    "sequences = list(text_vector_ds.as_numpy_iterator())\n",
    "print(len(sequences))"
   ]
  },
  {
   "cell_type": "code",
   "execution_count": 15,
   "id": "e370f6a4",
   "metadata": {},
   "outputs": [
    {
     "name": "stdout",
     "output_type": "stream",
     "text": [
      "[   1  120   56  461    1  424 1241 3396 3396 3278] => ['[UNK]', '2021', 'well', 'differentiate', '[UNK]', 'like', 'morphology', 'ncbigene4193', 'ncbigene4193', 'ncbigene1649']\n",
      "[   1  927 1393 1131   46  217  322  508  569   58] => ['[UNK]', '2022', 'radiomics', 'nomogram', 'base', 'multiple', 'sequence', 'magnetic', 'resonance', 'image']\n",
      "[   1  927    1 3751  243   30    1 1441    1 2708] => ['[UNK]', '2022', '[UNK]', 'immunotherapeutic', 'strategy', 'meshd006528', '[UNK]', 'vaccine', '[UNK]', 'adaptive']\n",
      "[   1  927 2001 1186    1 1448    1    1    1    1] => ['[UNK]', '2022', 'meshd015464', 'double', '[UNK]', 'chromosome', '[UNK]', '[UNK]', '[UNK]', '[UNK]']\n",
      "[   1  927    1 1563  261   41    1 2033  308    8] => ['[UNK]', '2022', '[UNK]', 'diet', 'combine', 'low', '[UNK]', 'dietary', 'pattern', 'treatment']\n"
     ]
    }
   ],
   "source": [
    "for seq in sequences[:5]:\n",
    "  print(f\"{seq} => {[inverse_vocab[i] for i in seq]}\")"
   ]
  },
  {
   "cell_type": "code",
   "execution_count": 16,
   "id": "b0c874be",
   "metadata": {},
   "outputs": [
    {
     "name": "stderr",
     "output_type": "stream",
     "text": [
      "100%|█████████████████████████████████| 350871/350871 [03:57<00:00, 1476.02it/s]\n"
     ]
    },
    {
     "name": "stdout",
     "output_type": "stream",
     "text": [
      "\n",
      "\n",
      "targets.shape: (1828549,)\n",
      "contexts.shape: (1828549, 5)\n",
      "labels.shape: (1828549, 5)\n"
     ]
    }
   ],
   "source": [
    "targets, contexts, labels = generate_training_data(\n",
    "    sequences=sequences,\n",
    "    window_size=2,\n",
    "    num_ns=4,\n",
    "    vocab_size=vocab_size,\n",
    "    seed=SEED)\n",
    "\n",
    "targets = np.array(targets)\n",
    "contexts = np.array(contexts)[:,:,0]\n",
    "labels = np.array(labels)\n",
    "\n",
    "print('\\n')\n",
    "print(f\"targets.shape: {targets.shape}\")\n",
    "print(f\"contexts.shape: {contexts.shape}\")\n",
    "print(f\"labels.shape: {labels.shape}\")"
   ]
  },
  {
   "cell_type": "code",
   "execution_count": 17,
   "id": "f45496c5",
   "metadata": {},
   "outputs": [
    {
     "name": "stdout",
     "output_type": "stream",
     "text": [
      "<BatchDataset element_spec=((TensorSpec(shape=(1024,), dtype=tf.int64, name=None), TensorSpec(shape=(1024, 5), dtype=tf.int64, name=None)), TensorSpec(shape=(1024, 5), dtype=tf.int64, name=None))>\n"
     ]
    }
   ],
   "source": [
    "# BATCH_SIZE = 400\n",
    "# BUFFER_SIZE = 3000\n",
    "BATCH_SIZE = 1024\n",
    "BUFFER_SIZE = 10000\n",
    "\n",
    "dataset = tf.data.Dataset.from_tensor_slices(((targets, contexts), labels))\n",
    "dataset = dataset.shuffle(BUFFER_SIZE).batch(BATCH_SIZE, drop_remainder=True)\n",
    "print(dataset)"
   ]
  },
  {
   "cell_type": "code",
   "execution_count": 18,
   "id": "bad3a04c",
   "metadata": {},
   "outputs": [
    {
     "name": "stdout",
     "output_type": "stream",
     "text": [
      "<PrefetchDataset element_spec=((TensorSpec(shape=(1024,), dtype=tf.int64, name=None), TensorSpec(shape=(1024, 5), dtype=tf.int64, name=None)), TensorSpec(shape=(1024, 5), dtype=tf.int64, name=None))>\n"
     ]
    }
   ],
   "source": [
    "dataset = dataset.cache().prefetch(buffer_size=AUTOTUNE)\n",
    "print(dataset)"
   ]
  },
  {
   "cell_type": "code",
   "execution_count": 19,
   "id": "760ef766",
   "metadata": {},
   "outputs": [],
   "source": [
    "class Word2Vec(tf.keras.Model):\n",
    "  def __init__(self, vocab_size, embedding_dim):\n",
    "    super(Word2Vec, self).__init__()\n",
    "    self.target_embedding = layers.Embedding(vocab_size,\n",
    "                                      embedding_dim,\n",
    "                                      input_length=1,\n",
    "                                      name=\"w2v_embedding\")\n",
    "    self.context_embedding = layers.Embedding(vocab_size,\n",
    "                                       embedding_dim,\n",
    "                                       input_length=num_ns+1)\n",
    "\n",
    "  def call(self, pair):\n",
    "    target, context = pair\n",
    "    # target: (batch, dummy?)  # The dummy axis doesn't exist in TF2.7+\n",
    "    # context: (batch, context)\n",
    "    if len(target.shape) == 2:\n",
    "      target = tf.squeeze(target, axis=1)\n",
    "    # target: (batch,)\n",
    "    word_emb = self.target_embedding(target)\n",
    "    # word_emb: (batch, embed)\n",
    "    context_emb = self.context_embedding(context)\n",
    "    # context_emb: (batch, context, embed)\n",
    "    dots = tf.einsum('be,bce->bc', word_emb, context_emb)\n",
    "    # dots: (batch, context)\n",
    "    return dots"
   ]
  },
  {
   "cell_type": "code",
   "execution_count": 20,
   "id": "c83c81d1",
   "metadata": {},
   "outputs": [],
   "source": [
    "def custom_loss(x_logit, y_true):\n",
    "      return tf.nn.sigmoid_cross_entropy_with_logits(logits=x_logit, labels=y_true)"
   ]
  },
  {
   "cell_type": "code",
   "execution_count": 21,
   "id": "747527de",
   "metadata": {},
   "outputs": [],
   "source": [
    "embedding_dim = 128\n",
    "word2vec = Word2Vec(vocab_size, embedding_dim)\n",
    "word2vec.compile(optimizer='adam',\n",
    "                 loss=tf.keras.losses.CategoricalCrossentropy(from_logits=True),\n",
    "                 metrics=['accuracy'])"
   ]
  },
  {
   "cell_type": "code",
   "execution_count": 22,
   "id": "5ddd14b6",
   "metadata": {},
   "outputs": [],
   "source": [
    "tensorboard_callback = tf.keras.callbacks.TensorBoard(log_dir=\"logs\")"
   ]
  },
  {
   "cell_type": "code",
   "execution_count": 23,
   "id": "570d8418",
   "metadata": {},
   "outputs": [
    {
     "name": "stdout",
     "output_type": "stream",
     "text": [
      "Epoch 1/30\n",
      "1785/1785 [==============================] - 18s 10ms/step - loss: 1.0672 - accuracy: 0.5914\n",
      "Epoch 2/30\n",
      "1785/1785 [==============================] - 17s 9ms/step - loss: 0.8622 - accuracy: 0.6760\n",
      "Epoch 3/30\n",
      "1785/1785 [==============================] - 19s 10ms/step - loss: 0.7927 - accuracy: 0.7056\n",
      "Epoch 4/30\n",
      "1785/1785 [==============================] - 18s 10ms/step - loss: 0.7495 - accuracy: 0.7236\n",
      "Epoch 5/30\n",
      "1785/1785 [==============================] - 18s 10ms/step - loss: 0.7159 - accuracy: 0.7377\n",
      "Epoch 6/30\n",
      "1785/1785 [==============================] - 18s 10ms/step - loss: 0.6875 - accuracy: 0.7499\n",
      "Epoch 7/30\n",
      "1785/1785 [==============================] - 16s 9ms/step - loss: 0.6626 - accuracy: 0.7605\n",
      "Epoch 8/30\n",
      "1785/1785 [==============================] - 16s 9ms/step - loss: 0.6407 - accuracy: 0.7698\n",
      "Epoch 9/30\n",
      "1785/1785 [==============================] - 18s 10ms/step - loss: 0.6212 - accuracy: 0.7780\n",
      "Epoch 10/30\n",
      "1785/1785 [==============================] - 17s 9ms/step - loss: 0.6039 - accuracy: 0.7852\n",
      "Epoch 11/30\n",
      "1785/1785 [==============================] - 17s 9ms/step - loss: 0.5885 - accuracy: 0.7917\n",
      "Epoch 12/30\n",
      "1785/1785 [==============================] - 16s 9ms/step - loss: 0.5748 - accuracy: 0.7975\n",
      "Epoch 13/30\n",
      "1785/1785 [==============================] - 18s 10ms/step - loss: 0.5627 - accuracy: 0.8025\n",
      "Epoch 14/30\n",
      "1785/1785 [==============================] - 17s 10ms/step - loss: 0.5518 - accuracy: 0.8070\n",
      "Epoch 15/30\n",
      "1785/1785 [==============================] - 21s 12ms/step - loss: 0.5420 - accuracy: 0.8111\n",
      "Epoch 16/30\n",
      "1785/1785 [==============================] - 20s 11ms/step - loss: 0.5333 - accuracy: 0.8147\n",
      "Epoch 17/30\n",
      "1785/1785 [==============================] - 16s 9ms/step - loss: 0.5253 - accuracy: 0.8179\n",
      "Epoch 18/30\n",
      "1785/1785 [==============================] - 16s 9ms/step - loss: 0.5181 - accuracy: 0.8207\n",
      "Epoch 19/30\n",
      "1785/1785 [==============================] - 19s 11ms/step - loss: 0.5115 - accuracy: 0.8233\n",
      "Epoch 20/30\n",
      "1785/1785 [==============================] - 18s 10ms/step - loss: 0.5055 - accuracy: 0.8257\n",
      "Epoch 21/30\n",
      "1785/1785 [==============================] - 18s 10ms/step - loss: 0.5000 - accuracy: 0.8279\n",
      "Epoch 22/30\n",
      "1785/1785 [==============================] - 17s 10ms/step - loss: 0.4949 - accuracy: 0.8299\n",
      "Epoch 23/30\n",
      "1785/1785 [==============================] - 18s 10ms/step - loss: 0.4902 - accuracy: 0.8318\n",
      "Epoch 24/30\n",
      "1785/1785 [==============================] - 17s 10ms/step - loss: 0.4858 - accuracy: 0.8335\n",
      "Epoch 25/30\n",
      "1785/1785 [==============================] - 18s 10ms/step - loss: 0.4817 - accuracy: 0.8350\n",
      "Epoch 26/30\n",
      "1785/1785 [==============================] - 19s 11ms/step - loss: 0.4779 - accuracy: 0.8364\n",
      "Epoch 27/30\n",
      "1785/1785 [==============================] - 18s 10ms/step - loss: 0.4743 - accuracy: 0.8378\n",
      "Epoch 28/30\n",
      "1785/1785 [==============================] - 20s 11ms/step - loss: 0.4710 - accuracy: 0.8390\n",
      "Epoch 29/30\n",
      "1785/1785 [==============================] - 17s 10ms/step - loss: 0.4678 - accuracy: 0.8402\n",
      "Epoch 30/30\n",
      "1785/1785 [==============================] - 17s 9ms/step - loss: 0.4648 - accuracy: 0.8412\n"
     ]
    },
    {
     "data": {
      "text/plain": [
       "<keras.callbacks.History at 0x7f819f40c670>"
      ]
     },
     "execution_count": 23,
     "metadata": {},
     "output_type": "execute_result"
    }
   ],
   "source": [
    "word2vec.fit(dataset, epochs=30, callbacks=[tensorboard_callback])"
   ]
  },
  {
   "cell_type": "code",
   "execution_count": 24,
   "id": "0b1501b5",
   "metadata": {},
   "outputs": [
    {
     "data": {
      "text/html": [
       "\n",
       "      <iframe id=\"tensorboard-frame-338aaa77a4bf8417\" width=\"100%\" height=\"800\" frameborder=\"0\">\n",
       "      </iframe>\n",
       "      <script>\n",
       "        (function() {\n",
       "          const frame = document.getElementById(\"tensorboard-frame-338aaa77a4bf8417\");\n",
       "          const url = new URL(\"/\", window.location);\n",
       "          const port = 6006;\n",
       "          if (port) {\n",
       "            url.port = port;\n",
       "          }\n",
       "          frame.src = url;\n",
       "        })();\n",
       "      </script>\n",
       "    "
      ],
      "text/plain": [
       "<IPython.core.display.HTML object>"
      ]
     },
     "metadata": {},
     "output_type": "display_data"
    }
   ],
   "source": [
    "#docs_infra: no_execute\n",
    "%tensorboard --logdir logs"
   ]
  },
  {
   "cell_type": "markdown",
   "id": "407ce386",
   "metadata": {},
   "source": [
    "### Embedding lookup and analysis "
   ]
  },
  {
   "cell_type": "code",
   "execution_count": 36,
   "id": "18b1ad86",
   "metadata": {},
   "outputs": [],
   "source": [
    "weights = word2vec.get_layer('w2v_embedding').get_weights()[0]\n",
    "vocab = vectorize_layer.get_vocabulary()"
   ]
  },
  {
   "cell_type": "code",
   "execution_count": 37,
   "id": "f120f955",
   "metadata": {},
   "outputs": [],
   "source": [
    "out_v = io.open('pubmed_cr2.0_vectors.tsv', 'w', encoding='utf-8')\n",
    "out_m = io.open('pubmed_cr2.0_metadata.tsv', 'w', encoding='utf-8')\n",
    "\n",
    "for index, word in enumerate(vocab):\n",
    "  if index == 0:\n",
    "    continue  # skip 0, it's padding.\n",
    "  vec = weights[index]\n",
    "  out_v.write('\\t'.join([str(x) for x in vec]) + \"\\n\")\n",
    "  out_m.write(word + \"\\n\")\n",
    "out_v.close()\n",
    "out_m.close()"
   ]
  },
  {
   "cell_type": "code",
   "execution_count": 38,
   "id": "e166878a",
   "metadata": {},
   "outputs": [],
   "source": [
    "try:\n",
    "  from google.colab import files\n",
    "  files.download('pubmed_cr2.0_vectors.tsv')\n",
    "  files.download('pubmed_cr2.0_metadata.tsv')\n",
    "except Exception:\n",
    "  pass"
   ]
  },
  {
   "cell_type": "code",
   "execution_count": null,
   "id": "70f7687b",
   "metadata": {},
   "outputs": [],
   "source": []
  },
  {
   "cell_type": "code",
   "execution_count": null,
   "id": "766624a0",
   "metadata": {},
   "outputs": [],
   "source": []
  }
 ],
 "metadata": {
  "kernelspec": {
   "display_name": "myenv",
   "language": "python",
   "name": "myenv"
  },
  "language_info": {
   "codemirror_mode": {
    "name": "ipython",
    "version": 3
   },
   "file_extension": ".py",
   "mimetype": "text/x-python",
   "name": "python",
   "nbconvert_exporter": "python",
   "pygments_lexer": "ipython3",
   "version": "3.9.12"
  }
 },
 "nbformat": 4,
 "nbformat_minor": 5
}
