{
 "cells": [
  {
   "cell_type": "code",
   "execution_count": 1,
   "id": "9e9c51df",
   "metadata": {},
   "outputs": [],
   "source": [
    "import numpy as np"
   ]
  },
  {
   "cell_type": "code",
   "execution_count": 2,
   "id": "30c6c5e0",
   "metadata": {},
   "outputs": [],
   "source": [
    "path_to_vector =  '/Users/niyone/Desktop/wn2vc_marea/data/vector/100000_wn2vec_vectors.tsv'\n",
    "path_to_metadata =  '/Users/niyone/Desktop/wn2vc_marea/data/metadata/100000_wn2vec_metadata.tsv'\n",
    "\n",
    "vectors = []\n",
    "with open(path_to_vector) as f:\n",
    "    for line in f:\n",
    "        arr = line.split('\\t')\n",
    "        arr = list(map(float, arr))\n",
    "        vectors.append(arr) # append an array of vectors \n",
    "        \n",
    "        \n",
    "metadata = []\n",
    "with open(path_to_metadata) as m:\n",
    "    for word in m:\n",
    "        single_word = word.split('\\n')[0] # word.split(\\n)[0]: word, word.split(\\n)[1]: ''\n",
    "        metadata.append(single_word)"
   ]
  },
  {
   "cell_type": "code",
   "execution_count": 3,
   "id": "f74eb69f",
   "metadata": {},
   "outputs": [],
   "source": [
    "dictionary  = dict(zip(metadata, vectors)) # Create a dictionary key: word, value: vector"
   ]
  },
  {
   "cell_type": "code",
   "execution_count": 4,
   "id": "7ef39170",
   "metadata": {},
   "outputs": [],
   "source": [
    "# temporary cluster \n",
    "word1 = dictionary.get('male')\n",
    "word2 = dictionary.get('female')\n",
    "word3 = dictionary.get('patient')\n",
    "word4 = dictionary.get('cancer')\n",
    "\n",
    "mesh1 = dictionary.get('meshd000438')\n",
    "mesh2 = dictionary.get('meshd003072')\n",
    "mesh3 = dictionary.get('meshd008175')\n",
    "mesh4 = dictionary.get('meshd012640')"
   ]
  },
  {
   "cell_type": "code",
   "execution_count": 5,
   "id": "2ce6604e",
   "metadata": {},
   "outputs": [],
   "source": [
    "cluster1 = [word1, word2, word3, word4]\n",
    "cluster2 = [mesh1, mesh2, mesh3, mesh4]\n"
   ]
  },
  {
   "cell_type": "code",
   "execution_count": 9,
   "id": "168b21ad",
   "metadata": {},
   "outputs": [],
   "source": [
    "# cosine_distance\n",
    "\n",
    "def distanceVectors(vector1, vector2):\n",
    "    cosine_similarity = np.dot(vector1, vector2)/(np.linalg.norm(vector1)* np.linalg.norm(vector2))\n",
    "    return cosine_similarity"
   ]
  },
  {
   "cell_type": "code",
   "execution_count": 10,
   "id": "83b29480",
   "metadata": {},
   "outputs": [],
   "source": [
    "\"\"\"\"\"\n",
    "this is the logic of this function \n",
    "suppose cluster = [1,2,3,4]\n",
    "should return the average of distance of pairs \n",
    "(1,2), (1,3), (1,4), (2,3), (2,4), and (3,4)\n",
    "\"\"\"\"\"\n",
    "def average_dist_clustur(cluster):\n",
    "    size = len(cluster)\n",
    "    j = 0\n",
    "    sum_dist = 0\n",
    "    for i in cluster1:\n",
    "        j = j+1\n",
    "        for x in range(j, size):\n",
    "            dist = distanceVectors(i, cluster[x])\n",
    "            sum_dist = sum_dist + dist\n",
    "    average_dist = sum_dist/size\n",
    "\n",
    "    return average_dist\n",
    "        "
   ]
  },
  {
   "cell_type": "code",
   "execution_count": 11,
   "id": "99d52e42",
   "metadata": {},
   "outputs": [
    {
     "name": "stdout",
     "output_type": "stream",
     "text": [
      "Average Cluster1:  0.29969696069396934\n",
      "Average Cluster2:  0.27603000469087724\n"
     ]
    }
   ],
   "source": [
    "print('Average Cluster1: ', average_dist_clustur(cluster1))\n",
    "print('Average Cluster2: ', average_dist_clustur(cluster2))"
   ]
  },
  {
   "cell_type": "code",
   "execution_count": null,
   "id": "43961134",
   "metadata": {},
   "outputs": [],
   "source": []
  }
 ],
 "metadata": {
  "kernelspec": {
   "display_name": "myenv",
   "language": "python",
   "name": "myenv"
  },
  "language_info": {
   "codemirror_mode": {
    "name": "ipython",
    "version": 3
   },
   "file_extension": ".py",
   "mimetype": "text/x-python",
   "name": "python",
   "nbconvert_exporter": "python",
   "pygments_lexer": "ipython3",
   "version": "3.9.12"
  }
 },
 "nbformat": 4,
 "nbformat_minor": 5
}
