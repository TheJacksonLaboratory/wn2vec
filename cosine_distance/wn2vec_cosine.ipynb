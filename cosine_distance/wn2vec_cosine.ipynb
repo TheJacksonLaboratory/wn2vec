{
 "cells": [
  {
   "cell_type": "code",
   "execution_count": 6,
   "id": "a008432b",
   "metadata": {},
   "outputs": [],
   "source": [
    "import numpy as np"
   ]
  },
  {
   "cell_type": "code",
   "execution_count": 7,
   "id": "37831835",
   "metadata": {},
   "outputs": [],
   "source": [
    "path_to_vector =  '/Users/niyone/Desktop/wn2vc_marea/data/vector/100000_wn2vec_vectors.tsv'\n",
    "path_to_metadata =  '/Users/niyone/Desktop/wn2vc_marea/data/metadata/100000_wn2vec_metadata.tsv'\n",
    "\n",
    "vectors = []\n",
    "with open(path_to_vector) as f:\n",
    "    for line in f:\n",
    "        arr = line.split('\\t')\n",
    "        arr = list(map(float, arr)) #convert list of string to list of float \n",
    "        vectors.append(arr) # append an array of vectors \n",
    "        \n",
    "        \n",
    "metadata = []\n",
    "with open(path_to_metadata) as m:\n",
    "    for word in m:\n",
    "        single_word = word.split('\\n')[0] # word.split(\\n)[0]: word, word.split(\\n)[1]: ''\n",
    "        metadata.append(single_word)"
   ]
  },
  {
   "cell_type": "code",
   "execution_count": 8,
   "id": "e43d8301",
   "metadata": {},
   "outputs": [],
   "source": [
    "dictionary  = dict(zip(metadata, vectors)) # Create a dictionary key: word, value: vector"
   ]
  },
  {
   "cell_type": "code",
   "execution_count": 9,
   "id": "4bea8878",
   "metadata": {},
   "outputs": [],
   "source": [
    "\n",
    "def cosine_distance(word1,word2, dictionary):\n",
    "    if word1 in dictionary and word2 in dictionary: \n",
    "        vector1 = np.array(dictionary.get(word1))\n",
    "        vector2 = np.array(dictionary.get(word2))\n",
    "        cosine_similarity = numpy.dot(vector1, vector2)/(numpy.linalg.norm(vector1)* numpy.linalg.norm(vector2))\n",
    "    else:\n",
    "        raise FileNotFoundError(\"One of the words is not in the dictionary\")\n",
    "    return cosine_similarity"
   ]
  },
  {
   "cell_type": "code",
   "execution_count": 10,
   "id": "bd85ecd8",
   "metadata": {},
   "outputs": [
    {
     "data": {
      "text/plain": [
       "0.2509592959604139"
      ]
     },
     "execution_count": 10,
     "metadata": {},
     "output_type": "execute_result"
    }
   ],
   "source": [
    "cosine_distance('patient', 'study',dictionary)"
   ]
  },
  {
   "cell_type": "code",
   "execution_count": 11,
   "id": "d820ac6c",
   "metadata": {},
   "outputs": [
    {
     "ename": "FileNotFoundError",
     "evalue": "One of the words is not in the dictionary",
     "output_type": "error",
     "traceback": [
      "\u001b[0;31m---------------------------------------------------------------------------\u001b[0m",
      "\u001b[0;31mFileNotFoundError\u001b[0m                         Traceback (most recent call last)",
      "Input \u001b[0;32mIn [11]\u001b[0m, in \u001b[0;36m<cell line: 1>\u001b[0;34m()\u001b[0m\n\u001b[0;32m----> 1\u001b[0m \u001b[43mcosine_distance\u001b[49m\u001b[43m(\u001b[49m\u001b[38;5;124;43m'\u001b[39;49m\u001b[38;5;124;43memma\u001b[39;49m\u001b[38;5;124;43m'\u001b[39;49m\u001b[43m,\u001b[49m\u001b[43m \u001b[49m\u001b[38;5;124;43m'\u001b[39;49m\u001b[38;5;124;43mstudy\u001b[39;49m\u001b[38;5;124;43m'\u001b[39;49m\u001b[43m,\u001b[49m\u001b[43mdictionary\u001b[49m\u001b[43m)\u001b[49m\n",
      "Input \u001b[0;32mIn [9]\u001b[0m, in \u001b[0;36mcosine_distance\u001b[0;34m(word1, word2, dictionary)\u001b[0m\n\u001b[1;32m      5\u001b[0m     cosine_similarity \u001b[38;5;241m=\u001b[39m numpy\u001b[38;5;241m.\u001b[39mdot(vector1, vector2)\u001b[38;5;241m/\u001b[39m(numpy\u001b[38;5;241m.\u001b[39mlinalg\u001b[38;5;241m.\u001b[39mnorm(vector1)\u001b[38;5;241m*\u001b[39m numpy\u001b[38;5;241m.\u001b[39mlinalg\u001b[38;5;241m.\u001b[39mnorm(vector2))\n\u001b[1;32m      6\u001b[0m \u001b[38;5;28;01melse\u001b[39;00m:\n\u001b[0;32m----> 7\u001b[0m     \u001b[38;5;28;01mraise\u001b[39;00m \u001b[38;5;167;01mFileNotFoundError\u001b[39;00m(\u001b[38;5;124m\"\u001b[39m\u001b[38;5;124mOne of the words is not in the dictionary\u001b[39m\u001b[38;5;124m\"\u001b[39m)\n\u001b[1;32m      8\u001b[0m \u001b[38;5;28;01mreturn\u001b[39;00m cosine_similarity\n",
      "\u001b[0;31mFileNotFoundError\u001b[0m: One of the words is not in the dictionary"
     ]
    }
   ],
   "source": [
    "cosine_distance('emma', 'study',dictionary)"
   ]
  },
  {
   "cell_type": "code",
   "execution_count": null,
   "id": "f7c81790",
   "metadata": {},
   "outputs": [],
   "source": []
  }
 ],
 "metadata": {
  "kernelspec": {
   "display_name": "myenv",
   "language": "python",
   "name": "myenv"
  },
  "language_info": {
   "codemirror_mode": {
    "name": "ipython",
    "version": 3
   },
   "file_extension": ".py",
   "mimetype": "text/x-python",
   "name": "python",
   "nbconvert_exporter": "python",
   "pygments_lexer": "ipython3",
   "version": "3.9.12"
  }
 },
 "nbformat": 4,
 "nbformat_minor": 5
}
