{
 "cells": [
  {
   "cell_type": "markdown",
   "id": "d3f265d4",
   "metadata": {},
   "source": [
    "# NLTK Demo\n",
    "This notebook is intended to help with the development of the wn2vec Python package. The following commands enable use to import that package from the local directory. Modify the file ``wn2vec/wn2vec/wntransformer.py`` to add new functions etc."
   ]
  },
  {
   "cell_type": "code",
   "execution_count": 1,
   "id": "09107862",
   "metadata": {},
   "outputs": [],
   "source": [
    "import sys\n",
    "import os\n",
    "sys.path.insert(0, os.path.abspath('..'))\n",
    "from wn2vec import WordNetTransformer"
   ]
  },
  {
   "cell_type": "code",
   "execution_count": 10,
   "id": "a4a02f6d",
   "metadata": {},
   "outputs": [
    {
     "name": "stderr",
     "output_type": "stream",
     "text": [
      "[nltk_data] Downloading package wordnet to /Users/robinp/nltk_data...\n",
      "[nltk_data]   Package wordnet is already up-to-date!\n",
      "[nltk_data] Downloading package omw-1.4 to /Users/robinp/nltk_data...\n",
      "[nltk_data]   Unzipping corpora/omw-1.4.zip.\n"
     ]
    },
    {
     "data": {
      "text/plain": [
       "True"
      ]
     },
     "execution_count": 10,
     "metadata": {},
     "output_type": "execute_result"
    }
   ],
   "source": [
    "import nltk\n",
    "from nltk.corpus import wordnet as wn\n",
    "nltk.download('wordnet')\n",
    "nltk.download('omw-1.4')"
   ]
  },
  {
   "cell_type": "code",
   "execution_count": 23,
   "id": "a83a921c",
   "metadata": {},
   "outputs": [
    {
     "name": "stdout",
     "output_type": "stream",
     "text": [
      "Synset('able.a.01')\n",
      "\t Lemma('able.a.01.able')\n",
      "Synset('unable.a.01')\n",
      "\t Lemma('unable.a.01.unable')\n",
      "Synset('abaxial.a.01')\n",
      "\t Lemma('abaxial.a.01.abaxial')\n",
      "\t Lemma('abaxial.a.01.dorsal')\n",
      "Synset('adaxial.a.01')\n",
      "\t Lemma('adaxial.a.01.adaxial')\n",
      "\t Lemma('adaxial.a.01.ventral')\n",
      "Synset('acroscopic.a.01')\n",
      "\t Lemma('acroscopic.a.01.acroscopic')\n",
      "Synset('basiscopic.a.01')\n",
      "\t Lemma('basiscopic.a.01.basiscopic')\n",
      "Synset('abducent.a.01')\n",
      "\t Lemma('abducent.a.01.abducent')\n",
      "\t Lemma('abducent.a.01.abducting')\n",
      "Synset('adducent.a.01')\n",
      "\t Lemma('adducent.a.01.adducent')\n",
      "\t Lemma('adducent.a.01.adductive')\n",
      "\t Lemma('adducent.a.01.adducting')\n",
      "Synset('nascent.a.01')\n",
      "\t Lemma('nascent.a.01.nascent')\n",
      "Synset('emergent.s.02')\n",
      "\t Lemma('emergent.s.02.emergent')\n",
      "\t Lemma('emergent.s.02.emerging')\n",
      "Synset('dissilient.s.01')\n",
      "\t Lemma('dissilient.s.01.dissilient')\n",
      "Synset('parturient.s.02')\n",
      "\t Lemma('parturient.s.02.parturient')\n",
      "Synset('dying.a.01')\n",
      "\t Lemma('dying.a.01.dying')\n",
      "Synset('moribund.s.02')\n",
      "\t Lemma('moribund.s.02.moribund')\n",
      "Synset('last.s.05')\n",
      "\t Lemma('last.s.05.last')\n",
      "Synset('abridged.a.01')\n",
      "\t Lemma('abridged.a.01.abridged')\n",
      "Synset('cut.s.03')\n",
      "\t Lemma('cut.s.03.cut')\n",
      "\t Lemma('cut.s.03.shortened')\n",
      "Synset('half-length.s.02')\n",
      "\t Lemma('half-length.s.02.half-length')\n",
      "Synset('potted.s.03')\n",
      "\t Lemma('potted.s.03.potted')\n",
      "Synset('unabridged.a.01')\n",
      "\t Lemma('unabridged.a.01.unabridged')\n",
      "Synset('full-length.s.02')\n",
      "\t Lemma('full-length.s.02.full-length')\n",
      "\t Lemma('full-length.s.02.uncut')\n"
     ]
    }
   ],
   "source": [
    "c = 0\n",
    "for ss in wn.all_synsets():\n",
    "    print(ss)\n",
    "    for l in ss.lemmas():\n",
    "        print(\"\\t\", l)\n",
    "   \n",
    "    c += 1\n",
    "    if c > 20:\n",
    "        break"
   ]
  },
  {
   "cell_type": "code",
   "execution_count": null,
   "id": "4bf6283c",
   "metadata": {},
   "outputs": [],
   "source": []
  }
 ],
 "metadata": {
  "kernelspec": {
   "display_name": "mykernel",
   "language": "python",
   "name": "mykernel"
  },
  "language_info": {
   "codemirror_mode": {
    "name": "ipython",
    "version": 3
   },
   "file_extension": ".py",
   "mimetype": "text/x-python",
   "name": "python",
   "nbconvert_exporter": "python",
   "pygments_lexer": "ipython3",
   "version": "3.8.2"
  }
 },
 "nbformat": 4,
 "nbformat_minor": 5
}
